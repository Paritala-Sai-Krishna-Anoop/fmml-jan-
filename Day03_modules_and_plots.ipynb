{
  "nbformat": 4,
  "nbformat_minor": 0,
  "metadata": {
    "colab": {
      "name": "Untitled35.ipynb",
      "provenance": [],
      "include_colab_link": true
    },
    "kernelspec": {
      "name": "python3",
      "display_name": "Python 3"
    },
    "language_info": {
      "name": "python"
    }
  },
  "cells": [
    {
      "cell_type": "markdown",
      "metadata": {
        "id": "view-in-github",
        "colab_type": "text"
      },
      "source": [
        "<a href=\"https://colab.research.google.com/github/Paritala-Sai-Krishna-Anoop/fmml-jan-/blob/main/Day03_modules_and_plots.ipynb\" target=\"_parent\"><img src=\"https://colab.research.google.com/assets/colab-badge.svg\" alt=\"Open In Colab\"/></a>"
      ]
    },
    {
      "cell_type": "code",
      "execution_count": 1,
      "metadata": {
        "id": "By497kknhe1j"
      },
      "outputs": [],
      "source": [
        "vehicle_bucket = ['TN01', 'KA03', 'TS01', 'KA04', 'AP04', 'KL01', 'TS03']"
      ]
    },
    {
      "cell_type": "code",
      "source": [
        "KA_vehicle = []"
      ],
      "metadata": {
        "id": "zSfvRcBtiCZ6"
      },
      "execution_count": 2,
      "outputs": []
    },
    {
      "cell_type": "code",
      "source": [
        "for each_item in vehicle_bucket:\n",
        "  if 'KA' in each_item:\n",
        "    KA_vehicle.append(each_item)"
      ],
      "metadata": {
        "id": "IGeJWa1uiHeD"
      },
      "execution_count": 3,
      "outputs": []
    },
    {
      "cell_type": "code",
      "source": [
        "KA_vehicle"
      ],
      "metadata": {
        "colab": {
          "base_uri": "https://localhost:8080/"
        },
        "id": "2uiLwnbmiPrj",
        "outputId": "a0708375-beab-4f44-9321-17051dadc727"
      },
      "execution_count": 4,
      "outputs": [
        {
          "output_type": "execute_result",
          "data": {
            "text/plain": [
              "['KA03', 'KA04']"
            ]
          },
          "metadata": {},
          "execution_count": 4
        }
      ]
    },
    {
      "cell_type": "code",
      "source": [
        "# list comprehension\n",
        "KA_list = [each_item for each_item in vehicle_bucket if 'KA' in each_item]"
      ],
      "metadata": {
        "id": "SCcGdga6iZKs"
      },
      "execution_count": 5,
      "outputs": []
    },
    {
      "cell_type": "code",
      "source": [
        "KA_list"
      ],
      "metadata": {
        "colab": {
          "base_uri": "https://localhost:8080/"
        },
        "id": "ggsjEZ7sim6C",
        "outputId": "62568f73-ce5e-424c-850d-505639039030"
      },
      "execution_count": 6,
      "outputs": [
        {
          "output_type": "execute_result",
          "data": {
            "text/plain": [
              "['KA03', 'KA04']"
            ]
          },
          "metadata": {},
          "execution_count": 6
        }
      ]
    },
    {
      "cell_type": "code",
      "source": [
        "import random"
      ],
      "metadata": {
        "id": "CnZmDgpBi2Lk"
      },
      "execution_count": 7,
      "outputs": []
    },
    {
      "cell_type": "code",
      "source": [
        "random.random()"
      ],
      "metadata": {
        "colab": {
          "base_uri": "https://localhost:8080/"
        },
        "id": "vV7Yc1m6jFDc",
        "outputId": "c80d2d11-2657-42ac-a35d-0fb4a38cc957"
      },
      "execution_count": 8,
      "outputs": [
        {
          "output_type": "execute_result",
          "data": {
            "text/plain": [
              "0.7334771119643995"
            ]
          },
          "metadata": {},
          "execution_count": 8
        }
      ]
    },
    {
      "cell_type": "code",
      "source": [
        "my_random_list = [random.randint(18, 24) for i in range(20)]"
      ],
      "metadata": {
        "id": "yMm93d6Fjbk-"
      },
      "execution_count": 9,
      "outputs": []
    },
    {
      "cell_type": "code",
      "source": [
        "my_random_list"
      ],
      "metadata": {
        "colab": {
          "base_uri": "https://localhost:8080/"
        },
        "id": "LM1OKlKgjpJk",
        "outputId": "b5c9036f-b1ff-478a-9b91-d2f68f593da1"
      },
      "execution_count": 10,
      "outputs": [
        {
          "output_type": "execute_result",
          "data": {
            "text/plain": [
              "[19,\n",
              " 22,\n",
              " 18,\n",
              " 23,\n",
              " 22,\n",
              " 19,\n",
              " 23,\n",
              " 22,\n",
              " 19,\n",
              " 19,\n",
              " 24,\n",
              " 19,\n",
              " 20,\n",
              " 21,\n",
              " 22,\n",
              " 22,\n",
              " 22,\n",
              " 20,\n",
              " 24,\n",
              " 19]"
            ]
          },
          "metadata": {},
          "execution_count": 10
        }
      ]
    },
    {
      "cell_type": "code",
      "source": [
        "my_random_list"
      ],
      "metadata": {
        "colab": {
          "base_uri": "https://localhost:8080/"
        },
        "id": "PqudA6xMkMOb",
        "outputId": "ee98f6ab-67e0-4e95-da26-cc1dc344eb46"
      },
      "execution_count": 11,
      "outputs": [
        {
          "output_type": "execute_result",
          "data": {
            "text/plain": [
              "[19,\n",
              " 22,\n",
              " 18,\n",
              " 23,\n",
              " 22,\n",
              " 19,\n",
              " 23,\n",
              " 22,\n",
              " 19,\n",
              " 19,\n",
              " 24,\n",
              " 19,\n",
              " 20,\n",
              " 21,\n",
              " 22,\n",
              " 22,\n",
              " 22,\n",
              " 20,\n",
              " 24,\n",
              " 19]"
            ]
          },
          "metadata": {},
          "execution_count": 11
        }
      ]
    },
    {
      "cell_type": "code",
      "source": [
        "import matplotlib.pyplot as plt"
      ],
      "metadata": {
        "id": "nK0Frp6ikmXP"
      },
      "execution_count": 12,
      "outputs": []
    },
    {
      "cell_type": "code",
      "source": [
        "import math"
      ],
      "metadata": {
        "id": "Ge62dFrOldQj"
      },
      "execution_count": 13,
      "outputs": []
    },
    {
      "cell_type": "code",
      "source": [
        "math.sqrt(6)"
      ],
      "metadata": {
        "colab": {
          "base_uri": "https://localhost:8080/"
        },
        "id": "lZ0lBSXQlfwz",
        "outputId": "d77deb89-43a7-4fe3-b6d2-9ce19ad9c6ac"
      },
      "execution_count": 14,
      "outputs": [
        {
          "output_type": "execute_result",
          "data": {
            "text/plain": [
              "2.449489742783178"
            ]
          },
          "metadata": {},
          "execution_count": 14
        }
      ]
    },
    {
      "cell_type": "code",
      "source": [
        "my_sqrt_list = [math.sqrt(each_item) for each_item in my_random_list]"
      ],
      "metadata": {
        "id": "Zb0Dnj1ylXo-"
      },
      "execution_count": 15,
      "outputs": []
    },
    {
      "cell_type": "code",
      "source": [
        "plt.xlabel('X')\n",
        "plt.ylabel('Random(X)')\n",
        "plt.plot(my_random_list, label='random function');\n",
        "plt.plot(my_sqrt_list, label='square roots of random numbers');\n",
        "plt.legend();"
      ],
      "metadata": {
        "colab": {
          "base_uri": "https://localhost:8080/",
          "height": 279
        },
        "id": "6xq_qLQ_kwZS",
        "outputId": "4eaf43fe-2155-4d32-f097-4e7050f59a64"
      },
      "execution_count": 16,
      "outputs": [
        {
          "output_type": "display_data",
          "data": {
            "image/png": "[encoded data removed]",
            "text/plain": [
              "<Figure size 432x288 with 1 Axes>"
            ]
          },
          "metadata": {
            "needs_background": "light"
          }
        }
      ]
    }
  ]
}