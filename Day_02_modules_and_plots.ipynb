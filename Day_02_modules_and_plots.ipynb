{
  "nbformat": 4,
  "nbformat_minor": 0,
  "metadata": {
    "colab": {
      "name": "Untitled35.ipynb",
      "provenance": [],
      "include_colab_link": true
    },
    "kernelspec": {
      "name": "python3",
      "display_name": "Python 3"
    },
    "language_info": {
      "name": "python"
    }
  },
  "cells": [
    {
      "cell_type": "markdown",
      "metadata": {
        "id": "view-in-github",
        "colab_type": "text"
      },
      "source": [
        "<a href=\"https://colab.research.google.com/github/Paritala-Sai-Krishna-Anoop/fmml-jan-/blob/main/Day_02_modules_and_plots.ipynb\" target=\"_parent\"><img src=\"https://colab.research.google.com/assets/colab-badge.svg\" alt=\"Open In Colab\"/></a>"
      ]
    },
    {
      "cell_type": "code",
      "execution_count": 1,
      "metadata": {
        "id": "By497kknhe1j"
      },
      "outputs": [],
      "source": [
        "vehicle_bucket = ['TN01', 'KA03', 'TS01', 'KA04', 'AP04', 'KL01', 'TS03']"
      ]
    },
    {
      "cell_type": "code",
      "source": [
        "KA_vehicle = []"
      ],
      "metadata": {
        "id": "zSfvRcBtiCZ6"
      },
      "execution_count": 2,
      "outputs": []
    },
    {
      "cell_type": "code",
      "source": [
        "for each_item in vehicle_bucket:\n",
        "  if 'KA' in each_item:\n",
        "    KA_vehicle.append(each_item)"
      ],
      "metadata": {
        "id": "IGeJWa1uiHeD"
      },
      "execution_count": 3,
      "outputs": []
    },
    {
      "cell_type": "code",
      "source": [
        "KA_vehicle"
      ],
      "metadata": {
        "id": "2uiLwnbmiPrj",
        "outputId": "a6d85570-0274-4af8-fe2f-f6cb0ffbfe6a",
        "colab": {
          "base_uri": "https://localhost:8080/"
        }
      },
      "execution_count": 4,
      "outputs": [
        {
          "output_type": "execute_result",
          "data": {
            "text/plain": [
              "['KA03', 'KA04']"
            ]
          },
          "metadata": {},
          "execution_count": 4
        }
      ]
    },
    {
      "cell_type": "code",
      "source": [
        "# list comprehension\n",
        "KA_list = [each_item for each_item in vehicle_bucket if 'KA' in each_item]"
      ],
      "metadata": {
        "id": "SCcGdga6iZKs"
      },
      "execution_count": 5,
      "outputs": []
    },
    {
      "cell_type": "code",
      "source": [
        "KA_list"
      ],
      "metadata": {
        "id": "ggsjEZ7sim6C",
        "outputId": "162e9b97-d9c8-4b65-f223-4951a81b5629",
        "colab": {
          "base_uri": "https://localhost:8080/"
        }
      },
      "execution_count": 6,
      "outputs": [
        {
          "output_type": "execute_result",
          "data": {
            "text/plain": [
              "['KA03', 'KA04']"
            ]
          },
          "metadata": {},
          "execution_count": 6
        }
      ]
    },
    {
      "cell_type": "code",
      "source": [
        "import random"
      ],
      "metadata": {
        "id": "CnZmDgpBi2Lk"
      },
      "execution_count": 7,
      "outputs": []
    },
    {
      "cell_type": "code",
      "source": [
        "random.random()"
      ],
      "metadata": {
        "id": "vV7Yc1m6jFDc",
        "outputId": "92ba3b6f-5b29-4577-bde4-242833fba3c9",
        "colab": {
          "base_uri": "https://localhost:8080/"
        }
      },
      "execution_count": 8,
      "outputs": [
        {
          "output_type": "execute_result",
          "data": {
            "text/plain": [
              "0.9358060096216925"
            ]
          },
          "metadata": {},
          "execution_count": 8
        }
      ]
    },
    {
      "cell_type": "code",
      "source": [
        "my_random_list = [random.randint(18, 24) for i in range(20)]"
      ],
      "metadata": {
        "id": "yMm93d6Fjbk-"
      },
      "execution_count": 9,
      "outputs": []
    },
    {
      "cell_type": "code",
      "source": [
        "my_random_list"
      ],
      "metadata": {
        "id": "LM1OKlKgjpJk",
        "outputId": "1f0236b0-e668-4a1a-e7cb-0b0edfe4705b",
        "colab": {
          "base_uri": "https://localhost:8080/"
        }
      },
      "execution_count": 10,
      "outputs": [
        {
          "output_type": "execute_result",
          "data": {
            "text/plain": [
              "[18,\n",
              " 21,\n",
              " 21,\n",
              " 22,\n",
              " 19,\n",
              " 21,\n",
              " 22,\n",
              " 20,\n",
              " 18,\n",
              " 20,\n",
              " 24,\n",
              " 23,\n",
              " 20,\n",
              " 19,\n",
              " 18,\n",
              " 20,\n",
              " 22,\n",
              " 20,\n",
              " 22,\n",
              " 22]"
            ]
          },
          "metadata": {},
          "execution_count": 10
        }
      ]
    },
    {
      "cell_type": "code",
      "source": [
        "import matplotlib.pyplot as plt"
      ],
      "metadata": {
        "id": "nK0Frp6ikmXP"
      },
      "execution_count": 11,
      "outputs": []
    },
    {
      "cell_type": "code",
      "source": [
        "import math"
      ],
      "metadata": {
        "id": "Ge62dFrOldQj"
      },
      "execution_count": 12,
      "outputs": []
    },
    {
      "cell_type": "code",
      "source": [
        "math.sqrt(6)"
      ],
      "metadata": {
        "id": "lZ0lBSXQlfwz",
        "outputId": "b22ae474-40b9-455e-c0cc-3e60f9fe25da",
        "colab": {
          "base_uri": "https://localhost:8080/"
        }
      },
      "execution_count": 13,
      "outputs": [
        {
          "output_type": "execute_result",
          "data": {
            "text/plain": [
              "2.449489742783178"
            ]
          },
          "metadata": {},
          "execution_count": 13
        }
      ]
    },
    {
      "cell_type": "code",
      "source": [
        "my_sqrt_list = [math.sqrt(each_item) for each_item in my_random_list]"
      ],
      "metadata": {
        "id": "Zb0Dnj1ylXo-"
      },
      "execution_count": 14,
      "outputs": []
    },
    {
      "cell_type": "code",
      "source": [
        "plt.xlabel('X')\n",
        "plt.ylabel('Random(X)')\n",
        "plt.plot(my_random_list, label='random function');\n",
        "plt.plot(my_sqrt_list, label='square roots of random numbers');\n",
        "plt.legend();"
      ],
      "metadata": {
        "id": "6xq_qLQ_kwZS",
        "outputId": "818ee3a5-e083-46d2-8114-cb5523c2f6be",
        "colab": {
          "base_uri": "https://localhost:8080/",
          "height": 279
        }
      },
      "execution_count": 15,
      "outputs": [
        {
          "output_type": "display_data",
          "data": {
            "image/png": "[encoded data removed]",
            "text/plain": [
              "<Figure size 432x288 with 1 Axes>"
            ]
          },
          "metadata": {
            "needs_background": "light"
          }
        }
      ]
    }
  ]
}